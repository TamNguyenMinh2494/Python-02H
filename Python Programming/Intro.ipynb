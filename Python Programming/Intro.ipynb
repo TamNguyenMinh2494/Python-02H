{
 "metadata": {
  "language_info": {
   "codemirror_mode": {
    "name": "ipython",
    "version": 3
   },
   "file_extension": ".py",
   "mimetype": "text/x-python",
   "name": "python",
   "nbconvert_exporter": "python",
   "pygments_lexer": "ipython3",
   "version": "3.8.5"
  },
  "orig_nbformat": 2,
  "kernelspec": {
   "name": "python385jvsc74a57bd07e19593e16cd23bce38a02895e285f95f15bb5bd41d4d07530108b8e792fe39a",
   "display_name": "Python 3.8.5 64-bit ('tamng': virtualenv)"
  }
 },
 "nbformat": 4,
 "nbformat_minor": 2,
 "cells": [
  {
   "source": [
    "### What is Python?\n",
    "\n",
    "<strong> Python </strong> is  powerful programming language and its syntax easy to learn for beginners. Effection approach to object-oriented programming (OOP) due to it has efficient high-level data structures and a simple. Python's elegant syntax and dynamic typing make it an ideal language for scripting and rapid application development in many areas on most platforms.\n",
    "\n",
    "Python interpreter is easily extended with new functions and data types implemented in C/C++. It's also suitable as an extension language for customizable applications."
   ],
   "cell_type": "markdown",
   "metadata": {}
  },
  {
   "source": [
    "### What can Python do?\n",
    "\n",
    "<strong> Python is used for </strong>\n",
    "<ul>\n",
    "    <li> Using for server to develop web applications  (Server side like Flask, Django, Pyramid ...).\n",
    "    <li> Creating workflows alongside software development.\n",
    "    <li> Connecting to Database systems (CRUD files).\n",
    "    <li> Handling Big data.\n",
    "    <li> Performing comlex mathematics.\n",
    "    <li> Machine Learning (ML) and Deep Learning (DL).\n",
    "    <li> Analyzing and visualizing data science.\n",
    "    <li> Processing/Pre-processing images for Computer Vision.\n",
    "    <li> ... \n",
    "</ul>\n",
    "\n",
    "<strong> Advantages </strong>\n",
    "- [x]  Is easy to learn.\n",
    "- [x]  Is open-source and free.\n",
    "- [x]  Is widely used for AI.\n",
    "- [x]  Works on different platforms (Windows, Linux, Mac, Raspberry Pi, etc).\n",
    "- [x]  Syntax similar to the English language.\n",
    "- [x]  Write programs with fewer lines than some other programming languages.\n",
    "- [x]  Run on an interpreter system, that means prototyping can be very quick.\n",
    "- [x]  Can be treated in a procedural way, an object-oriented way or a functional way."
   ],
   "cell_type": "markdown",
   "metadata": {}
  },
  {
   "source": [
    "### Popularity of Python and others?\n",
    "\n",
    "![Insight](/img/Intro/Python_popularity_2020.png)\n"
   ],
   "cell_type": "markdown",
   "metadata": {}
  },
  {
   "source": [
    "### Installation\n",
    "\n",
    "- Go to https://www.python.org/downloads/\n",
    "- Select your OS\n",
    "- Download Python executable installer\n",
    "- Run executable installer\n",
    "- Verify Python by Command Prompt\n",
    "\n",
    "> ``\n",
    "> <strong>`C:\\Users\\tamng>python`</strong>\n",
    "> \n",
    "> Python 3.8.5 (default, Sep  3 2020, 21:29:08) [MSC v.1916 64 bit (AMD64)] :: Anaconda, Inc. on win32\n",
    "> \n",
    "> \n",
    "> Type \"help\", \"copyright\", \"credits\" or \"license\" for more information.\n",
    "> \n",
    "> \\>>>\n",
    "> ``\n",
    "> \n",
    "\n",
    "<strong>Read more</strong>\n",
    "<ol>\n",
    "    <li>Windows: https://docs.python.org/3/using/windows.html\n",
    "    <li>Macintosh: https://docs.python.org/3/using/mac.html\n",
    "    <li> Unix platforms: https://docs.python.org/3/using/unix.html\n",
    "</ol>"
   ],
   "cell_type": "markdown",
   "metadata": {}
  },
  {
   "source": [
    "### Hello, World"
   ],
   "cell_type": "markdown",
   "metadata": {}
  },
  {
   "source": [
    "After setup environments, so now you can run an easy prompt with Python immediate mode in the command line. \n",
    "\n",
    "Open `Command Prompt`, type \n",
    "\n",
    ">\n",
    "> ``\n",
    "> <strong>`C:\\Users\\tamng>python`</strong>\n",
    "> \n",
    "> Python 3.8.5 (default, Sep  3 2020, 21:29:08) [MSC v.1916 64 bit (AMD64)] :: Anaconda, Inc. on win32\n",
    "> \n",
    "> Type \"help\", \"copyright\", \"credits\" or \"license\" for more information.\n",
    "> \n",
    "> \\>>> print(\"Hello, World\")\n",
    "> \n",
    "> Hello, World\n",
    "> \n",
    "> \\>>>\n",
    ">``\n",
    ">\n",
    "<i><strong>Note:</strong></i> In the command line, whenever you are done, you can type `exit()` to quit the python command line interface.\n",
    "\n",
    "On the other hand, you can write Python in other ways like Notepad, Visual Code, Jupyter Notebook ..."
   ],
   "cell_type": "markdown",
   "metadata": {}
  },
  {
   "cell_type": "code",
   "execution_count": null,
   "metadata": {},
   "outputs": [],
   "source": []
  }
 ]
}
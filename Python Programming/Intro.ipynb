{
 "metadata": {
  "language_info": {
   "codemirror_mode": {
    "name": "ipython",
    "version": 3
   },
   "file_extension": ".py",
   "mimetype": "text/x-python",
   "name": "python",
   "nbconvert_exporter": "python",
   "pygments_lexer": "ipython3",
   "version": "3.8.5"
  },
  "orig_nbformat": 2,
  "kernelspec": {
   "name": "python385jvsc74a57bd07e19593e16cd23bce38a02895e285f95f15bb5bd41d4d07530108b8e792fe39a",
   "display_name": "Python 3.8.5 64-bit ('tamng': virtualenv)"
  }
 },
 "nbformat": 4,
 "nbformat_minor": 2,
 "cells": [
  {
   "source": [
    "### What is Python?\n",
    "\n",
    "<strong> Python </strong> is  powerful programming language and its syntax easy to learn for beginners. Effection approach to object-oriented programming (OOP) due to it has efficient high-level data structures and a simple. Python's elegant syntax and dynamic typing make it an ideal language for scripting and rapid application development in many areas on most platforms.\n",
    "\n",
    "Python interpreter is easily extended with new functions and data types implemented in C/C++. It's also suitable as an extension language for customizable applications."
   ],
   "cell_type": "markdown",
   "metadata": {}
  },
  {
   "source": [
    "### What can Python do?\n",
    "\n",
    "<strong> Python is used for </strong>\n",
    "<ul>\n",
    "    <li> Using for server to develop web applications  (Server side like Flask, Django, Pyramid ...).\n",
    "    <li> Creating workflows alongside software development.\n",
    "    <li> Connecting to Database systems (CRUD files).\n",
    "    <li> Handling Big data.\n",
    "    <li> Performing comlex mathematics.\n",
    "    <li> Machine Learning (ML) and Deep Learning (DL).\n",
    "    <li> Analyzing and visualizing data science.\n",
    "    <li> Processing/Pre-processing images for Computer Vision.\n",
    "    <li> ... \n",
    "</ul>\n",
    "\n",
    "<strong> Advantages </strong>\n",
    "- [x]  Works on different platforms (Windows, Linux, Mac, Raspberry Pi, etc).\n",
    "- [x]  Syntax similar to the English language.\n",
    "- [x]  Write programs with fewer lines than some other programming languages.\n",
    "- [x]  Run on an interpreter system, that means prototyping can be very quick.\n",
    "- [x]  Can be treated in a procedural way, an object-oriented way or a functional way."
   ],
   "cell_type": "markdown",
   "metadata": {}
  },
  {
   "source": [
    "### Popularity of Python and others?\n",
    "\n",
    "![Insight 2020](./img/Intro/Python_popularity_2020.png)\n"
   ],
   "cell_type": "markdown",
   "metadata": {}
  },
  {
   "source": [
    "### Installation"
   ],
   "cell_type": "markdown",
   "metadata": {}
  },
  {
   "source": [
    "### Hello, World"
   ],
   "cell_type": "markdown",
   "metadata": {}
  },
  {
   "cell_type": "code",
   "execution_count": null,
   "metadata": {},
   "outputs": [],
   "source": []
  }
 ]
}